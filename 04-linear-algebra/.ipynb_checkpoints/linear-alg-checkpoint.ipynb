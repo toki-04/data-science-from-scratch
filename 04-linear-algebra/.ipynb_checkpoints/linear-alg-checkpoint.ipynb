{
 "cells": [
  {
   "cell_type": "markdown",
   "id": "c6a66ebf-56ce-40e4-862a-96e05fa7ea26",
   "metadata": {},
   "source": [
    "# Linear Algebra"
   ]
  },
  {
   "cell_type": "markdown",
   "id": "b55aac46-27b1-4bd4-897c-efaac25bb23d",
   "metadata": {},
   "source": [
    "## Vectors\n",
    "\n",
    "Vectors are objects that can be added together to form new vectors\n",
    "and that can be multiplied by scalars (i.e., numbers), also to form\n",
    "new vectors."
   ]
  },
  {
   "cell_type": "code",
   "execution_count": 1,
   "id": "74b60330-c1e7-4e30-a52c-3fafddc76a0c",
   "metadata": {},
   "outputs": [],
   "source": [
    "from typing import List"
   ]
  },
  {
   "cell_type": "code",
   "execution_count": 3,
   "id": "9e3726d1-ec6c-40c6-bfc1-a46953f6918b",
   "metadata": {},
   "outputs": [],
   "source": [
    "Vector = List[float]\n",
    "\n",
    "height_weight_age = [\n",
    "    70,  # inches.\n",
    "    170, # pounds.\n",
    "    40,  # years\n",
    "]\n",
    "\n",
    "grades = [\n",
    "    95, # exam1\n",
    "    80, # exam2\n",
    "    75, # exam3\n",
    "    62, # exam4\n",
    "]"
   ]
  },
  {
   "cell_type": "markdown",
   "id": "32a38a1e-4785-4d60-8f5f-a6f05b47626f",
   "metadata": {},
   "source": [
    "### Add two vectors"
   ]
  },
  {
   "cell_type": "code",
   "execution_count": 7,
   "id": "e24fd3a2-bcb3-4bf4-b291-a734dc237b38",
   "metadata": {},
   "outputs": [],
   "source": [
    "def add(v: Vector, w: Vector) -> Vector:\n",
    "    \"\"\"Adds corresponding elements\"\"\"\n",
    "    assert len(v) == len(w), \"vectors must be the same length\"\n",
    "\n",
    "    return [v_i + w_i for v_i, w_i in zip(v, w)]\n",
    "\n",
    "assert add([1, 2, 3], [4, 5, 6]) == [5, 7, 9]"
   ]
  },
  {
   "cell_type": "markdown",
   "id": "09ea80de-5fdc-44ca-8e93-37d4d17146de",
   "metadata": {},
   "source": [
    "### Subtract two vectors"
   ]
  },
  {
   "cell_type": "code",
   "execution_count": 10,
   "id": "44bd27b3-223f-45bf-913c-07943bad354c",
   "metadata": {},
   "outputs": [],
   "source": [
    "def subtract(v: Vector, w: Vector) -> Vector:\n",
    "    \"\"\"Subtracts corresponding elements\"\"\"\n",
    "    assert len(v) == len(w), \"vectors must be the same length\"\n",
    "\n",
    "    return [v_i - w_i for v_i, w_i in zip(v, w)]\n",
    "\n",
    "assert subtract([5, 7, 9], [4, 5, 6]) == [1, 2, 3]"
   ]
  },
  {
   "cell_type": "markdown",
   "id": "490c17ba-db93-4397-a561-57f671c7ca87",
   "metadata": {},
   "source": [
    "### Componentwise sum a list of vector"
   ]
  },
  {
   "cell_type": "code",
   "execution_count": 11,
   "id": "13744044-c2cc-43d2-84a3-16b63b18e218",
   "metadata": {},
   "outputs": [],
   "source": [
    "def vector_sum(vectors: List) -> Vector:\n",
    "    \"\"\"Sums all correspong elements\"\"\"\n",
    "    # Check taht vectors is not empty\n",
    "    assert vectors, \"no vectors provided\"\n",
    "\n",
    "    # Check the vectors are all the same size\n",
    "    num_elements = len(vectors[0])\n",
    "    assert all(len(v) == num_elements for v in vectors), \"different sizes!\"\n",
    "\n",
    "    # the i-th element of the result is the sum of every vector[i]\n",
    "    return [sum(vector[i] for vector in vectors) \n",
    "           for i in range(num_elements)]\n",
    "\n",
    "assert vector_sum([[1, 2], [3, 4], [5, 6], [7, 8]]) == [16, 20]"
   ]
  },
  {
   "cell_type": "markdown",
   "id": "6fa97d76-d3d2-42e5-968c-624f59367a7e",
   "metadata": {},
   "source": [
    "### Scalart Multiplication"
   ]
  },
  {
   "cell_type": "code",
   "execution_count": 12,
   "id": "400def9c-6256-41fd-aa75-1535b659f2f6",
   "metadata": {},
   "outputs": [],
   "source": [
    "def scalar_multiply(c: float, v: Vector) -> Vector:\n",
    "    \"\"\"Multiplies every element by c\"\"\"\n",
    "    return [c * v_i for v_i in v]\n",
    "\n",
    "assert scalar_multiply(2, [1, 2, 3]) == [2, 4, 6]"
   ]
  },
  {
   "cell_type": "markdown",
   "id": "cdb61fb0-3902-434c-9299-01a7eaaa3dc8",
   "metadata": {},
   "source": [
    "### Componentwise mean"
   ]
  },
  {
   "cell_type": "code",
   "execution_count": 14,
   "id": "1bd17f5c-d180-4f7f-a4ed-741464629ba7",
   "metadata": {},
   "outputs": [],
   "source": [
    "def vector_mean(vectors: List[Vector]) -> Vector:\n",
    "    \"\"\"Computes the element-wise average\"\"\"\n",
    "    n = len(vectors)\n",
    "    return scalar_multiply(1/n, vector_sum(vectors))\n",
    "\n",
    "assert vector_mean([[1, 2], [3, 4], [5, 6]]) == [3, 4]"
   ]
  },
  {
   "cell_type": "markdown",
   "id": "75ff258a-0bbd-4a7a-953f-b61fa37c494d",
   "metadata": {},
   "source": [
    "### Dot Product"
   ]
  },
  {
   "cell_type": "code",
   "execution_count": 17,
   "id": "5d6f4c42-d877-4544-9246-5bdbecd3658d",
   "metadata": {},
   "outputs": [],
   "source": [
    "def dot(v: Vector, w: Vector) -> float:\n",
    "    \"\"\"Computes v_1 * w_1 + ... + v_n * w_n\"\"\"\n",
    "    assert len(v) == len(w), \"vectors must be the same length\"\n",
    "\n",
    "    return sum(v_i * w_i for v_i, w_i in zip(v, w))\n",
    "\n",
    "assert dot([1, 2, 3], [4, 5, 6]) == 32"
   ]
  },
  {
   "cell_type": "markdown",
   "id": "8bfaa738-69c8-4055-9475-625c21d104c5",
   "metadata": {},
   "source": [
    "### Sum of squares"
   ]
  },
  {
   "cell_type": "code",
   "execution_count": 20,
   "id": "5a8b9fb1-0890-485f-ab7e-b5480710d7f2",
   "metadata": {},
   "outputs": [],
   "source": [
    "def sum_of_squares(v: Vector) -> float:\n",
    "    \"\"\"Returns v_1 * v_1 + ... v_n * v_n\"\"\"\n",
    "    return dot(v, v)\n",
    "\n",
    "assert sum_of_squares([1, 2, 3]) == 14"
   ]
  },
  {
   "cell_type": "markdown",
   "id": "5c33fbff-2458-4e98-8ec4-396762f93ac3",
   "metadata": {},
   "source": [
    "### Magnitude"
   ]
  },
  {
   "cell_type": "code",
   "execution_count": 21,
   "id": "b02622df-1a7e-4659-b453-9dbdd06b2a99",
   "metadata": {},
   "outputs": [],
   "source": [
    "import math\n",
    "\n",
    "def magnitude(v: Vector) -> float:\n",
    "    \"\"\"Returns the magnitude (or length) of v\"\"\"\n",
    "    return math.sqrt(sum_of_squares(v))\n",
    "\n",
    "assert magnitude([3, 4]) == 5"
   ]
  },
  {
   "cell_type": "markdown",
   "id": "ad626946-7f67-4ba3-82e1-382519d48b45",
   "metadata": {},
   "source": [
    "### Distance"
   ]
  },
  {
   "cell_type": "code",
   "execution_count": 22,
   "id": "bab9c4a8-b503-46a8-a5ad-39834c509042",
   "metadata": {},
   "outputs": [],
   "source": [
    "def distance(v: Vector, w: Vector) -> float:\n",
    "    return magnitude(subtract(v, w))"
   ]
  },
  {
   "cell_type": "markdown",
   "id": "abcea7cf-a263-4649-a13d-1ccbba408ce9",
   "metadata": {},
   "source": [
    "## Matrix\n",
    "\n",
    "A matrix is a two-dimensional collection of numbers."
   ]
  },
  {
   "cell_type": "code",
   "execution_count": 26,
   "id": "aac6417f-c6a8-4255-9630-878162e582b6",
   "metadata": {},
   "outputs": [],
   "source": [
    "# Another type alias\n",
    "Matrix = List[List[float]]\n",
    "\n",
    "A = [[1, 2, 3], # A has 2 rows and 3 columns\n",
    "     [4, 5, 6]]\n",
    "\n",
    "B = [[1, 2], # B has 3 rows ad 2 columns\n",
    "     [3, 4],\n",
    "     [5, 6]]"
   ]
  },
  {
   "cell_type": "code",
   "execution_count": 24,
   "id": "ebeb2a21-e2e4-4bf3-8cfd-c504cc237f12",
   "metadata": {},
   "outputs": [],
   "source": [
    "from typing import Tuple"
   ]
  },
  {
   "cell_type": "markdown",
   "id": "92243785-ecc8-4900-b53b-ae9e5c5410c0",
   "metadata": {},
   "source": [
    "### Matrix shape"
   ]
  },
  {
   "cell_type": "code",
   "execution_count": 27,
   "id": "2f29559b-7268-4b32-bfa8-95db46b2fb5b",
   "metadata": {},
   "outputs": [],
   "source": [
    "def shape(A: Matrix) -> Tuple[int, int]:\n",
    "    \"\"\"Returns (# of rows of A, # of columns of A\"\"\"\n",
    "    num_rows = len(A)\n",
    "    num_cols = len(A[0] if A else 0) # number of elements in first row\n",
    "    return num_rows, num_cols\n",
    "\n",
    "assert shape([[1, 2, 3], [4, 5, 6]]) == (2, 3) # 2 rows, 3 columns"
   ]
  },
  {
   "cell_type": "markdown",
   "id": "6d9dd0e4-d578-4adc-bdcd-2be32c4d61b4",
   "metadata": {},
   "source": [
    "### Matrix row and column"
   ]
  },
  {
   "cell_type": "code",
   "execution_count": 29,
   "id": "b961265f-5ce4-430b-a0de-211dcb1b3951",
   "metadata": {},
   "outputs": [],
   "source": [
    "def get_row(A: Matrix, i: int) -> Vector:\n",
    "    \"\"\"Returns the i-th of A (as a Vector)\"\"\"\n",
    "    return A[i]  # A[i] is already the ith row\n",
    "\n",
    "def get_column(A: Matrix, j: int) -> Vector:\n",
    "    \"\"\"Returns the j-th column of A (as a Vector)\"\"\"\n",
    "    return [A_i[j]        # jth element of row A-i\n",
    "           for A_i in A]  # for each row A_i"
   ]
  },
  {
   "cell_type": "markdown",
   "id": "84c1e3e3-9266-4f0b-b8cf-28e046f0a8d0",
   "metadata": {},
   "source": [
    "### Make Matrix"
   ]
  },
  {
   "cell_type": "code",
   "execution_count": 30,
   "id": "c840ff17-7fee-40e5-aac6-188dd8812b27",
   "metadata": {},
   "outputs": [],
   "source": [
    "from typing import Callable"
   ]
  },
  {
   "cell_type": "code",
   "execution_count": 31,
   "id": "9c82d5c0-77ac-4272-9421-cafe721b39a9",
   "metadata": {},
   "outputs": [],
   "source": [
    "def make_matrix(num_rows: int, num_cols: int,\n",
    "               entry_fn: Callable[[int, int], float]) -> Matrix:\n",
    "    \"\"\"\n",
    "    Returns a num_rows x num_cols matrix\n",
    "    whose (i, j)-th entry is entry_fn(i, j)\"\"\"\n",
    "\n",
    "    return [[entry_fn(i, j)           # given i, create a list\n",
    "            for j in range(num_cols)] # [entry_fn(i, 0), ...]\n",
    "            for i in range(num_rows)] # create one list for each i"
   ]
  },
  {
   "cell_type": "markdown",
   "id": "6a791364-e633-49cc-8b61-3d16f2a18e1c",
   "metadata": {},
   "source": [
    "### Identity Matrix"
   ]
  },
  {
   "cell_type": "code",
   "execution_count": 33,
   "id": "f771c27e-98ef-4318-a187-43262444d5fa",
   "metadata": {},
   "outputs": [],
   "source": [
    "def identity_matrix(n: int) -> Matrix:\n",
    "    \"\"\"Returns the n x x identity matrix\"\"\"\n",
    "    return make_matrix(n, n, lambda i, j: 1 if i == j else 0)\n",
    "\n",
    "assert identity_matrix(5) == [[1, 0, 0, 0, 0],\n",
    "                              [0, 1, 0, 0, 0],\n",
    "                              [0, 0, 1, 0, 0],\n",
    "                              [0, 0, 0, 1, 0],\n",
    "                              [0, 0, 0, 0, 1]]"
   ]
  }
 ],
 "metadata": {
  "kernelspec": {
   "display_name": "Python 3 (ipykernel)",
   "language": "python",
   "name": "python3"
  },
  "language_info": {
   "codemirror_mode": {
    "name": "ipython",
    "version": 3
   },
   "file_extension": ".py",
   "mimetype": "text/x-python",
   "name": "python",
   "nbconvert_exporter": "python",
   "pygments_lexer": "ipython3",
   "version": "3.11.7"
  }
 },
 "nbformat": 4,
 "nbformat_minor": 5
}
